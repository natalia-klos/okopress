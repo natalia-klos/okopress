{
 "cells": [
  {
   "cell_type": "markdown",
   "id": "83592bcd",
   "metadata": {},
   "source": [
    "# Zadanie 1"
   ]
  },
  {
   "cell_type": "code",
   "execution_count": 1,
   "id": "b9259846",
   "metadata": {},
   "outputs": [],
   "source": [
    "import sqlite3"
   ]
  },
  {
   "cell_type": "code",
   "execution_count": 2,
   "id": "a8602fe2",
   "metadata": {},
   "outputs": [],
   "source": [
    "con = sqlite3.connect(r\"C:\\Users\\klosn\\Downloads\\analityka.db\")\n",
    "cur = con.cursor()"
   ]
  },
  {
   "cell_type": "code",
   "execution_count": 3,
   "id": "4ca4023b",
   "metadata": {},
   "outputs": [
    {
     "name": "stdout",
     "output_type": "stream",
     "text": [
      "[('events',)]\n"
     ]
    }
   ],
   "source": [
    "base_query = \"\"\"SELECT name FROM sqlite_master  \n",
    "  WHERE type='table';\"\"\"\n",
    "\n",
    "cur.execute(base_query)\n",
    "print(cur.fetchall())"
   ]
  },
  {
   "cell_type": "code",
   "execution_count": 4,
   "id": "1c78c4b1",
   "metadata": {},
   "outputs": [
    {
     "data": {
      "text/plain": [
       "[(1642045768000, 'payment', '89', 27.4),\n",
       " (1638290115000, 'link_click', '28', None),\n",
       " (1639685873000, 'page_view', '12', None),\n",
       " (1649543869000, 'link_click', '13', None),\n",
       " (1633870039000, 'link_click', '86', None),\n",
       " (1649733293000, 'link_click', '05', None),\n",
       " (1634209485000, 'page_view', '10', None),\n",
       " (1649221589000, 'link_click', '10', None),\n",
       " (1633205236000, 'page_view', '26', None),\n",
       " (1641761469000, 'link_click', '70', None),\n",
       " (1654285475000, 'link_click', '23', None),\n",
       " (1641788363000, 'payment', '68', 32.32),\n",
       " (1653202638000, 'link_click', '30', None),\n",
       " (1649645563000, 'link_click', '40', None),\n",
       " (1636278738000, 'payment', '12', 96.81),\n",
       " (1653656739000, 'payment', '73', 9.1),\n",
       " (1655231119000, 'link_click', '08', None),\n",
       " (1649646139000, 'payment', '33', 4.44),\n",
       " (1632831836000, 'page_view', '14', None),\n",
       " (1650823165000, 'page_view', '98', None)]"
      ]
     },
     "execution_count": 4,
     "metadata": {},
     "output_type": "execute_result"
    }
   ],
   "source": [
    "cur.execute(\"SELECT * FROM events limit 20\").fetchall()"
   ]
  },
  {
   "cell_type": "code",
   "execution_count": 5,
   "id": "55ea0d90",
   "metadata": {},
   "outputs": [],
   "source": [
    "names = list(map(lambda x: x[0], cur.description))"
   ]
  },
  {
   "cell_type": "code",
   "execution_count": 6,
   "id": "e5fed087",
   "metadata": {},
   "outputs": [
    {
     "data": {
      "text/plain": [
       "['event_timestamp', 'event_name', 'user_id', 'value']"
      ]
     },
     "execution_count": 6,
     "metadata": {},
     "output_type": "execute_result"
    }
   ],
   "source": [
    "names"
   ]
  },
  {
   "cell_type": "markdown",
   "id": "8693f8f4",
   "metadata": {},
   "source": [
    "### 1. Podaj łączną ilość wyświetleń strony (event_name = page_view) w przeciągu ostatnich 7 dni.\n"
   ]
  },
  {
   "cell_type": "code",
   "execution_count": 7,
   "id": "49a89acf",
   "metadata": {},
   "outputs": [
    {
     "data": {
      "text/plain": [
       "[('2022-01-13 03:49:28',),\n",
       " ('2021-11-30 16:35:15',),\n",
       " ('2021-12-16 20:17:53',),\n",
       " ('2022-04-09 22:37:49',),\n",
       " ('2021-10-10 12:47:19',),\n",
       " ('2022-04-12 03:14:53',),\n",
       " ('2021-10-14 11:04:45',),\n",
       " ('2022-04-06 05:06:29',),\n",
       " ('2021-10-02 20:07:16',),\n",
       " ('2022-01-09 20:51:09',),\n",
       " ('2022-06-03 19:44:35',),\n",
       " ('2022-01-10 04:19:23',),\n",
       " ('2022-05-22 06:57:18',),\n",
       " ('2022-04-11 02:52:43',),\n",
       " ('2021-11-07 09:52:18',),\n",
       " ('2022-05-27 13:05:39',),\n",
       " ('2022-06-14 18:25:19',),\n",
       " ('2022-04-11 03:02:19',),\n",
       " ('2021-09-28 12:23:56',),\n",
       " ('2022-04-24 17:59:25',)]"
      ]
     },
     "execution_count": 7,
     "metadata": {},
     "output_type": "execute_result"
    }
   ],
   "source": [
    "cur.execute(\"SELECT datetime(event_timestamp / 1000, 'unixepoch') from events limit 20\").fetchall()"
   ]
  },
  {
   "cell_type": "code",
   "execution_count": 8,
   "id": "e950349d",
   "metadata": {},
   "outputs": [
    {
     "data": {
      "text/plain": [
       "[(1000,)]"
      ]
     },
     "execution_count": 8,
     "metadata": {},
     "output_type": "execute_result"
    }
   ],
   "source": [
    "cur.execute(\"\"\"SELECT count(*) FROM events \"\"\").fetchall()"
   ]
  },
  {
   "cell_type": "code",
   "execution_count": 9,
   "id": "b2b4988d",
   "metadata": {},
   "outputs": [
    {
     "data": {
      "text/plain": [
       "[(1664639251000, 'page_view', '22', None, '2022-10-01'),\n",
       " (1664671176000, 'page_view', '69', None, '2022-10-02'),\n",
       " (1664656813000, 'page_view', '60', None, '2022-10-01')]"
      ]
     },
     "execution_count": 9,
     "metadata": {},
     "output_type": "execute_result"
    }
   ],
   "source": [
    "cur.execute(\"\"\"SELECT *, date(event_timestamp / 1000, 'unixepoch') FROM events \n",
    "            where datetime(event_timestamp / 1000, 'unixepoch') > date('now', '-7 day')\n",
    "            and event_name = 'page_view'\n",
    "            \"\"\").fetchall()"
   ]
  },
  {
   "cell_type": "code",
   "execution_count": 10,
   "id": "8c7cf319",
   "metadata": {},
   "outputs": [],
   "source": [
    "views_number = len(cur.execute(\"\"\"SELECT *, date(event_timestamp / 1000, 'unixepoch') FROM events \n",
    "            where datetime(event_timestamp / 1000, 'unixepoch') > date('now', '-7 day')\n",
    "            and event_name = 'page_view'\n",
    "            \"\"\").fetchall())"
   ]
  },
  {
   "cell_type": "code",
   "execution_count": 11,
   "id": "0c8b52ea",
   "metadata": {},
   "outputs": [
    {
     "name": "stdout",
     "output_type": "stream",
     "text": [
      "W ciągu ostatnich 7 dni pojawiła się następująca liczba wyświetleń strony: 3.\n"
     ]
    }
   ],
   "source": [
    "print(f'W ciągu ostatnich 7 dni pojawiła się następująca liczba wyświetleń strony: {views_number}.')"
   ]
  },
  {
   "cell_type": "markdown",
   "id": "e2ed0d2f",
   "metadata": {},
   "source": [
    "### 2. Podaj liczbę użytkowników strony (unikalne event_name = page_view po user_id) dla każdego z ostatnich 7 dni."
   ]
  },
  {
   "cell_type": "code",
   "execution_count": 12,
   "id": "16381323",
   "metadata": {},
   "outputs": [
    {
     "data": {
      "text/plain": [
       "[('2022-10-01', 2), ('2022-10-02', 1)]"
      ]
     },
     "execution_count": 12,
     "metadata": {},
     "output_type": "execute_result"
    }
   ],
   "source": [
    "cur.execute(\"\"\"SELECT date(event_timestamp / 1000, 'unixepoch') as date, count(distinct user_id) as cnt\n",
    "            FROM events \n",
    "            where datetime(event_timestamp / 1000, 'unixepoch') > date('now', '-7 day')\n",
    "            and event_name = 'page_view'\n",
    "            group by 1\n",
    "            \"\"\").fetchall()"
   ]
  },
  {
   "cell_type": "markdown",
   "id": "d8e0724c",
   "metadata": {},
   "source": [
    "### 3. Podaj najnowszy event dla każdego z użytkowników. Wynik tego zapytania powinien być sortowany po dacie eventu (od najnowszych) i zlimitowany do 10 wierszy."
   ]
  },
  {
   "cell_type": "code",
   "execution_count": 13,
   "id": "78e5d282",
   "metadata": {},
   "outputs": [
    {
     "data": {
      "text/plain": [
       "[('84', 'link_click', '2022-10-02 19:04:10'),\n",
       " ('64', 'payment', '2022-10-02 11:23:54'),\n",
       " ('44', 'link_click', '2022-10-02 10:36:52'),\n",
       " ('72', 'payment', '2022-10-02 04:09:33'),\n",
       " ('69', 'page_view', '2022-10-02 00:39:36'),\n",
       " ('60', 'page_view', '2022-10-01 20:40:13'),\n",
       " ('95', 'link_click', '2022-10-01 20:09:36'),\n",
       " ('22', 'page_view', '2022-10-01 15:47:31'),\n",
       " ('68', 'payment', '2022-10-01 15:08:59'),\n",
       " ('41', 'link_click', '2022-10-01 08:28:18')]"
      ]
     },
     "execution_count": 13,
     "metadata": {},
     "output_type": "execute_result"
    }
   ],
   "source": [
    "cur.execute(\"\"\"SELECT user_id, event_name, max(datetime(event_timestamp / 1000, 'unixepoch')) as max_date\n",
    "            FROM events\n",
    "            group by 1\n",
    "            order by max_date desc\n",
    "            limit 10\n",
    "            \"\"\").fetchall()"
   ]
  },
  {
   "cell_type": "markdown",
   "id": "dc0f2c64",
   "metadata": {},
   "source": [
    "# Zadanie 2"
   ]
  },
  {
   "cell_type": "markdown",
   "id": "e0819552",
   "metadata": {},
   "source": [
    "### 1. Ilość znaków w treści (type = \"unstyled\").\n",
    "### 2. Użycie każdego znaku (type = \"unstyled\")."
   ]
  },
  {
   "cell_type": "code",
   "execution_count": 14,
   "id": "d0028cd1",
   "metadata": {},
   "outputs": [],
   "source": [
    "import json\n",
    "import string"
   ]
  },
  {
   "cell_type": "code",
   "execution_count": 15,
   "id": "2e14908f",
   "metadata": {},
   "outputs": [],
   "source": [
    "file = open(r'C:\\Users\\klosn\\Downloads\\article.json', encoding='utf-8')\n",
    "content = json.load(file)"
   ]
  },
  {
   "cell_type": "code",
   "execution_count": 16,
   "id": "6f4d1f88",
   "metadata": {},
   "outputs": [
    {
     "name": "stdout",
     "output_type": "stream",
     "text": [
      "Podczas gdy PiS ucieka od tematu aborcji, chcąc przeczekać do wyborów, Kaja Godek i Kościół naciskają na TK, by ustawę jeszcze zaostrzył, a PO przekonuje, że obecny \"kompromis\" jest święty, Polki i Polacy w swoich poglądach zbliżają się do Europy. W 2018 roku swoje ustawy zliberalizowały Cypr i Irlandia. Na naszym kontynencie aborcji z powodów społecznych lub na życzenie nie dopuszcza tylko Malta, Andora, Watykan. I Polska. \n",
      "\n",
      "New letter:  ą\n",
      "\n",
      "New letter:  ć\n",
      "\n",
      "New letter:  ó\n",
      "\n",
      "New letter:  ś\n",
      "\n",
      "New letter:  ł\n",
      "\n",
      "New letter:  ę\n",
      "\n",
      "New letter:  ż\n",
      " \n",
      "Sondaż pokazuje na słabnący wpływ katolickiej etyki, która od \"wzmożenia moralnego\" po śmierci Jana Pawła II w 2005 roku rządziła postawami. \n",
      "Od 1993 roku (z półroczna przerwą w 1997) obowiązuje w Polsce restrykcyjna ustawa, która dopuszcza przerwanie ciąży w trzech wyjątkowych przypadkach: ratowania zdrowia i życia kobiety, gdy ciąża jest wynikiem gwałtu i gdy płód jest nieuleczalnie chory (przesłanka embriopatologiczna). Legalnych aborcji jest niewiele ponad 1000 rocznie, nielegalnych co najmniej kilkadziesiąt tysięcy. \n",
      " \n",
      "Z sondażu IPSOS dla OKO.press wynika jednak, że aż 53 proc. Polek i Polaków jest zdania, że kobieta powinna mieć prawo do aborcji w pierwszych 12 tygodniach ciąży, bez względu na okoliczności. \n",
      "Pytanie, które skupia uwagę na prawie kobiety do decyzji, zadaliśmy po raz pierwszy. We wcześniejszych sondażach konfrontowaliśmy badanych z obowiązującą ustawą antyaborcyjną i pytaliśmy, czy należałoby ją zliberalizować (\"dopuszczając aborcję także z powodu trudnej sytuacji kobiety\"), zaostrzyć, czy pozostawić bez zmian. W sierpniu 2018 roku za liberalizacją opowiedziało się 38 proc., a za pozostawieniem ustawy bez zmian - 44 proc. \n",
      "[tab tekst=\"Zobacz wyniki poprzednich sondaży\"] \n",
      "[/tab] \n",
      "W obecnym, lutowym sondażu widać dużą różnicę w odpowiedziach mężczyzn i kobiet. Aż 57 proc. respondentek opowiedziało się za prawem do przerwania ciąży. Mniej - 49 proc. - mężczyzn wybrało tę odpowiedź. Co ciekawe, odsetek odpowiedzi \"nie\" jest taki sam w obu grupach, ale prawie dwa razy więcej mężczyzn niż kobiet wybrało odpowiedź \"nie wiem\". \n",
      "\n",
      "New letter:  ź\n",
      "Podobnie było w sondażu z kwietnia 2018 roku, gdy poza standardowym pytaniem o liberalizację/zaostrzenie zadaliśmy jeszcze jedno: \"Proszę sobie wyobrazić, że Pana/Pani bliska znajoma chce przerwać ciążę z powodu trudnej sytuacji osobistej. Czy uważa Pan\\i, że prawo powinno jej tego zakazywać, czy nie\". \n",
      "Chcieliśmy odwołać się do \"etyki życia codziennego\", kiedy abstrakcyjne zasady konfrontują się z prawdziwym doświadczeniem. Wynik tamtego sondażu był podobny do dziś omawianego - 55 proc. uznało, że prawo nie powinno aborcji zakazywać, przy czym takiej odpowiedzi udzieliło aż 60 proc. kobiet i 50 proc. mężczyzn. \n",
      "PO jak mantrę powtarza, że nie chce zmieniać ustawy antyaborcyjnej, uzasadniając to m.in. poglądami swoich wyborców. Dołączenie do koalicji z PO na czele Barbary Nowackiej, do niedawna twarzy projektów liberalizujących przepisy, nic w tej kwestii nie zmieniło. W styczniu 2018 roku projekt Nowackiej \"Ratujmy kobiety\" przepadł w Sejmie w pierwszym czytaniu zaledwie dziewięcioma głosami. Prawie 30 posłów opozycji z głosowania uciekło. W 2016 Grzegorz Schetyna proponował nawet wpisanie \"kompromisu\" do konstytucji. \n",
      "Aż 80 proc. wyborców PO wybrało odpowiedź \"tak\", a tylko 12 proc. \"nie\". Najbardziej liberalny jest elektorat Wiosny, ale różnica między wyborcami PO i Wiosny jest zaskakująco niewielka. Robert Biedroń, w przeciwieństwie do PO, wyraźnie akcentuje potrzebę liberalizacji ustawy - aborcja do 12. tygodnia znalazła się w jego programie wyborczym. \n",
      "\n",
      "New letter:  ń\n",
      "Najbardziej konserwatywny jest oczywiście elektorat PiS, jednak i tu wynik na \"tak\" jest stosunkowo duży (jak na partię skrajnie prawicową i odwołującą się w programie do nauki Kościoła) - 21 proc. \n",
      "Na wykresie nie ma elektoratu Nowoczesnej i partii Teraz!, gdyż ich elektorat w naszym sondażu był za mały, żeby wyciągać jakiekolwiek wnioski. Warto jednak zaznaczyć, że to posłanki obu tych partii jeszcze w 2017 roku zgłosiły swój własny projekt liberalizacji ustawy antyaborcyjnej. Zakładał on, podobnie, jak projekt Nowackiej, że aborcja będzie legalna do 12. tygodnia ciąży, ale po konsultacji z psychologiem. W styczniu 2018 roku, po porażce \"Ratujmy kobiety\", Nowoczesna wraz z PSL i Unią Europejskich Demokratów złożyła w Sejmie projekt Nowackiej (chodziło o to, by projekt nie przepadł, co się zresztą nie udało). Także SLD ma w programie aborcję na życzenie. \n",
      "Nasz sondaż pozwolił również sprawdzić poglądy elektoratu całej ogłoszonej 1 lutego Koalicji Europejskiej (która osiągnęła poparcie 33 proc. remisując statystycznie z PiS - 34 proc.). \n",
      "Wyniki sondażu w grupach wiekowych nie potwierdzają naszego wniosku z kwietnia 2018 roku, gdy wydawało się, że najmłodsi stają się coraz bardziej liberalni. Wynik najnowszego sondażu przypomina ten ze stycznia 2018 - przeciw prawu do aborcji do 12. tygodnia są najczęściej najmłodsi i najstarsi. \"Tak\" najczęściej odpowiadały osoby w wieku 40-49 lat (63 proc.) i 30-39 (60 proc.). \n",
      "Odpowiedzi pokolenia 60 plus wyjaśnić można faktem, że ta grupa wiekowa najczęściej głosuje na konserwatywny PiS oraz najczęściej podziela wykładnię Kościoła katolickiego. \n",
      "Trzeba jednak podkreślić, że we wszystkich grupach odsetek odpowiedzi \"tak\" przewyższał \"nie\". \n",
      "Zgoda na aborcję rośnie wraz z poziomem wykształcenia. Jedynie wśród osób z wykształceniem podstawowym więcej było odpowiedzi \"nie\", w innych grupach przeważała postawa pro-choice. W grupie z wyższym wykształceniem przewaga była dwukrotna. \n",
      "Gdy w poprzednich sondażach pytaliśmy o liberalizację/zaostrzenie, osoby z wykształceniem wyższym zazwyczaj opowiadały się za pozostawieniem ustawy bez zmian. Najbardziej liberalni byli respondenci z wykształceniem zawodowym. Teraz zaprezentowali postawy nieco bardziej konserwatywne. Gdy w kwietniu 2018 zadaliśmy pytanie o bliską osobę w trudnej sytuacji, odpowiedzi przypominały te z najnowszego sondażu - przyzwolenie na aborcję rosło wraz z poziomem wykształcenia. \n",
      "Mieszkańcy miast - i średnich, i dużych - opowiadają się za prawem do aborcji. Najczęściej ci mieszkający w mieście od 100 tys. do 500 tys. mieszkańców (64 proc.). W większych miastach (od 20 tys.) przeciwników prawa do aborcji jest ponad dwa razy mniej, niż zwolenników. Wśród mieszkańców wsi jest remis - odpowiedzi \"tak\" i \"nie\" wybrało po 43 proc. respondentów. \n",
      "Nie tak dawno prawo do aborcji było w Polsce - i poglądach Polek i Polaków - oczywistością. \n",
      "W momencie transformacji Polska miała jedną z najbardziej liberalnych ustaw aborcyjnych w Europie. Aborcja była dozwolona ze względu na trudną sytuację kobiety, co dawało w zasadzie nieograniczone możliwości przerwania niechcianej ciąży. W 1993 roku, mimo ogromnego sprzeciwu społecznego, politycy drastycznie zaostrzyli przepisy dotyczące aborcji, które obowiązują do dzisiaj. \n",
      "Po decyzji Sejmu poparcie dla prawa do aborcji zaczęło spadać, ale postawy pro-choice ciągle dominowały. Dopiero w latach 2005-2006 nastąpił gwałtowny wzrost postaw konserwatywnych. Powodem tego wzmożenia mogła być śmierć Jana Pawła II (kwiecień 2005), który mocno opowiadał się przeciw aborcji oraz wygrana PiS (wrzesień 2005), który szedł do wyborów z hasłem \"rewolucji moralnej\". \n",
      "Dobrze widać to na poniższym wykresie. Pytanie zadane przez CBOS jest podobne do tego, które zadaliśmy w najnowszym sondażu: \n",
      "Widać także, że jeszcze w 1997 roku przewaga zwolenników prawa do aborcji była ponad dwukrotna. Wyniki naszego sondażu są statystycznie identyczne z wynikiem CBOS października 2002 (54 proc. - za, 32 proc. - przeciw, 12 proc. niezdecydowanych). \n",
      "Zobacz analizę, jak kształtowały się postawy Polaków w kwestii aborcji: \n",
      "Sondaż IPSOS dla OKO.press 14-16 lutego 2019, metodą CATI (telefonicznie), na ogólnopolskiej reprezentatywnej próbie 1004 osób.  \n",
      "\n",
      "\n"
     ]
    }
   ],
   "source": [
    "freq_dict = {strg:0 for strg in string.printable}\n",
    "\n",
    "for dictionary in content['blocks']:\n",
    "    if dictionary['type'] == 'unstyled':\n",
    "        text = dictionary['text']\n",
    "        print(text)\n",
    "        for strg in text:\n",
    "            try:\n",
    "                freq_dict[strg] += 1\n",
    "            except:\n",
    "                print('')\n",
    "                print('New letter: ', strg)\n",
    "                freq_dict[strg] = 1"
   ]
  },
  {
   "cell_type": "code",
   "execution_count": 17,
   "id": "a9a41daf",
   "metadata": {},
   "outputs": [],
   "source": [
    "for x in list(freq_dict.keys()):\n",
    "    if freq_dict[x] == 0:\n",
    "        freq_dict.pop(x)"
   ]
  },
  {
   "cell_type": "code",
   "execution_count": 18,
   "id": "ce31a383",
   "metadata": {},
   "outputs": [
    {
     "name": "stdout",
     "output_type": "stream",
     "text": [
      "Wszystkich znaków jest: 7665,\n",
      " a użycie znaków to: \n",
      " {'0': 41, '1': 28, '2': 27, '3': 13, '4': 11, '5': 11, '6': 8, '7': 4, '8': 10, '9': 12, 'a': 559, 'b': 119, 'c': 273, 'd': 215, 'e': 456, 'f': 5, 'g': 67, 'h': 51, 'i': 489, 'j': 173, 'k': 179, 'l': 120, 'm': 117, 'n': 311, 'o': 519, 'p': 206, 'r': 286, 's': 229, 't': 230, 'u': 113, 'w': 287, 'y': 254, 'z': 305, 'A': 5, 'B': 4, 'C': 7, 'D': 5, 'E': 4, 'G': 4, 'I': 9, 'J': 3, 'K': 8, 'L': 3, 'M': 3, 'N': 14, 'O': 16, 'P': 38, 'R': 3, 'S': 19, 'T': 7, 'U': 1, 'W': 21, 'Z': 5, '!': 1, '\"': 42, '(': 14, ')': 14, ',': 74, '-': 22, '.': 89, '/': 4, ':': 4, '=': 1, '[': 2, '\\\\': 1, ']': 2, ' ': 1107, 'ą': 58, 'ć': 22, 'ó': 38, 'ś': 33, 'ł': 89, 'ę': 54, 'ż': 75, 'ź': 5, 'ń': 7}\n"
     ]
    }
   ],
   "source": [
    "print(f'Wszystkich znaków jest: {sum(freq_dict.values())},\\n a użycie znaków to: \\n {freq_dict}')"
   ]
  },
  {
   "cell_type": "markdown",
   "id": "6e1059d4",
   "metadata": {},
   "source": [
    "### 3. Ilość linków (entityMap -> type = \"LINK\").\n",
    "### 4. Ilość zdjęć w tekście (entityMap -> type = \"IMAGE\").\n",
    "### 5. Spis Id artykułów powiązanych (entityMap -> type = \"RELATED_CONTENTS\")."
   ]
  },
  {
   "cell_type": "code",
   "execution_count": 19,
   "id": "4e544c0e",
   "metadata": {},
   "outputs": [],
   "source": [
    "links_count = 0\n",
    "images_count = 0\n",
    "reladed_id = []\n",
    "\n",
    "for dictionary in content['entityMap'].values():\n",
    "    if dictionary['type'] == 'LINK':\n",
    "        links_count += 1\n",
    "    if dictionary['type'] == 'IMAGE':\n",
    "        images_count += 1\n",
    "    if dictionary['type'] == 'RELATED_CONTENTS':\n",
    "        reladed_id.append(dictionary['data']['nodes'][0])"
   ]
  },
  {
   "cell_type": "code",
   "execution_count": 20,
   "id": "3cc45bd8",
   "metadata": {},
   "outputs": [
    {
     "name": "stdout",
     "output_type": "stream",
     "text": [
      "Liczba linków: 13\n",
      "Liczba obrazów: 10\n",
      "Id artykułów powiązanych: ['213ed3dd-800d-4b9b-abab-8a99e4e3cba7', '6bed0d13-44db-40f4-8481-4b415bb8cd76']\n"
     ]
    }
   ],
   "source": [
    "print(f'Liczba linków: {links_count}')\n",
    "print(f'Liczba obrazów: {images_count}')\n",
    "print(f'Id artykułów powiązanych: {reladed_id}')"
   ]
  },
  {
   "cell_type": "code",
   "execution_count": null,
   "id": "04efdb92",
   "metadata": {},
   "outputs": [],
   "source": []
  }
 ],
 "metadata": {
  "kernelspec": {
   "display_name": "Python 3 (ipykernel)",
   "language": "python",
   "name": "python3"
  },
  "language_info": {
   "codemirror_mode": {
    "name": "ipython",
    "version": 3
   },
   "file_extension": ".py",
   "mimetype": "text/x-python",
   "name": "python",
   "nbconvert_exporter": "python",
   "pygments_lexer": "ipython3",
   "version": "3.9.7"
  }
 },
 "nbformat": 4,
 "nbformat_minor": 5
}
